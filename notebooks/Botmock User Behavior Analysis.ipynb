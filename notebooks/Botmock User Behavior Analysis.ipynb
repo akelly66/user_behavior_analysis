{
 "cells": [
  {
   "cell_type": "markdown",
   "metadata": {},
   "source": [
    "# User Behavior Analysis\n",
    "\n",
    "As engineers, product managers, and marketers, we know our product's value propositions the way we know our own birthdays. However, what's obvious to us is not always obvious to our users, causing unintentional dishonesty in qualitative studies, and even more difficult to identify with ony a basic understanding of user behavior on our app.\n",
    "\n",
    "The goal of this project is to turn usage data into something tangible and actionable. It's not just about *what* the magic moment is for the user but *when* and *how*. A common example is Facebook-- their growth team mined and analyzed user data to identify that users find value in their product when they connect with ten friends within seven days.\n",
    "\n",
    "![alt-text](/Users/allisonkelly/Documents/Notebooks/user_behavior_analysis/images/facebook-aha.png)\n",
    "\n",
    "The illustration above shows the sweet spot between users who performed the action and retained vs. users who retained that performed the action. This is the tipping point for most users-- when the *what* becomes the *how many*. After finding out *when* the user must perform the action, we'll run validation tests and experiments to prove our hypothesis.\n",
    "\n",
    "### Problem Statement\n",
    "\n",
    "1. What is/are our most important feature(s) based on user behavior?\n",
    "2. How many times must a user take advantage of that/those features to be retained?\n",
    "3. Within what time frame must the user adopt the feature to be retained?"
   ]
  },
  {
   "cell_type": "markdown",
   "metadata": {},
   "source": [
    "## Imports\n",
    "\n",
    "Where can I find this file"
   ]
  },
  {
   "cell_type": "code",
   "execution_count": 1,
   "metadata": {},
   "outputs": [],
   "source": [
    "import pandas as pd\n",
    "import numpy as np\n",
    "import seaborn as sns\n",
    "import matplotlib.pyplot as plt\n",
    "import os\n",
    "from datetime import date\n",
    "\n",
    "import warnings\n",
    "warnings.filterwarnings(\"ignore\")"
   ]
  },
  {
   "cell_type": "code",
   "execution_count": 2,
   "metadata": {},
   "outputs": [
    {
     "data": {
      "text/plain": [
       "'/Users/allisonkelly/Documents/Notebooks/user_behavior_analysis/notebooks'"
      ]
     },
     "execution_count": 2,
     "metadata": {},
     "output_type": "execute_result"
    }
   ],
   "source": [
    "os.getcwd()"
   ]
  },
  {
   "cell_type": "markdown",
   "metadata": {},
   "source": [
    "# Data\n",
    "\n",
    "Each of the following four dataframes represents a section of user behavior, pulled from our MySQL database. \n",
    "\n",
    "### Column Descriptions\n",
    "\n",
    "- team_id: unique identifier for teams, can have multiple users\n",
    "- account_start_date: date team account was created\n",
    "- trial_end_date: end date of trial period\n",
    "- mocks_count: count of projects\n",
    "- entities_count: count of entities used across all projects\n",
    "- intents_count: count of intents used across all projects \n",
    "- variables_count: count of variables used across all projects\n",
    "- last_login: date of last login (by any member of the team)\n",
    "- sub_end: date of subscrition end\n",
    "- stripe_plan: name of subscription\n",
    "- members: count of team members that are editors\n",
    "- reviewers: count of team members that are reviewers\n",
    "- testers: count of team members that are testers"
   ]
  },
  {
   "cell_type": "code",
   "execution_count": 3,
   "metadata": {},
   "outputs": [],
   "source": [
    "raw_df1 = pd.read_csv(\"/Users/allisonkelly/Documents/Notebooks/user_behavior_analysis/data/raw/feature_counts_grouped_by_team.csv\", \n",
    "                      names=['team_id', 'account_start_date', 'trial_end_date', 'mocks_count', 'entities_count', 'intents_count', 'variables_count'],\n",
    "                     header=0)"
   ]
  },
  {
   "cell_type": "code",
   "execution_count": 4,
   "metadata": {},
   "outputs": [
    {
     "data": {
      "text/plain": [
       "16888"
      ]
     },
     "execution_count": 4,
     "metadata": {},
     "output_type": "execute_result"
    }
   ],
   "source": [
    "len(raw_df1)"
   ]
  },
  {
   "cell_type": "code",
   "execution_count": 5,
   "metadata": {
    "scrolled": true
   },
   "outputs": [],
   "source": [
    "raw_df2 = pd.read_csv(\"/Users/allisonkelly/Documents/Notebooks/user_behavior_analysis/data/raw/team_last_login_subsc_end_date.csv\", \n",
    "                      names = ['team_id', 'last_login', 'sub_end', 'stripe_plan'], header=0)\n",
    "\n",
    "raw_df2['team_id'] = raw_df2['team_id'].astype(object)"
   ]
  },
  {
   "cell_type": "code",
   "execution_count": 6,
   "metadata": {},
   "outputs": [
    {
     "data": {
      "text/plain": [
       "18006"
      ]
     },
     "execution_count": 6,
     "metadata": {},
     "output_type": "execute_result"
    }
   ],
   "source": [
    "len(raw_df2)"
   ]
  },
  {
   "cell_type": "code",
   "execution_count": 7,
   "metadata": {
    "scrolled": false
   },
   "outputs": [],
   "source": [
    "raw_df3 = pd.read_csv(\"/Users/allisonkelly/Documents/Notebooks/user_behavior_analysis/data/raw/mocks_comments_user_tests.csv\")\n"
   ]
  },
  {
   "cell_type": "code",
   "execution_count": 8,
   "metadata": {},
   "outputs": [
    {
     "data": {
      "text/html": [
       "<div>\n",
       "<style scoped>\n",
       "    .dataframe tbody tr th:only-of-type {\n",
       "        vertical-align: middle;\n",
       "    }\n",
       "\n",
       "    .dataframe tbody tr th {\n",
       "        vertical-align: top;\n",
       "    }\n",
       "\n",
       "    .dataframe thead th {\n",
       "        text-align: right;\n",
       "    }\n",
       "</style>\n",
       "<table border=\"1\" class=\"dataframe\">\n",
       "  <thead>\n",
       "    <tr style=\"text-align: right;\">\n",
       "      <th></th>\n",
       "      <th>id</th>\n",
       "      <th>team_id</th>\n",
       "      <th>no_comment</th>\n",
       "      <th>no_user_tests</th>\n",
       "    </tr>\n",
       "  </thead>\n",
       "  <tbody>\n",
       "    <tr>\n",
       "      <th>0</th>\n",
       "      <td>0178dee0-aa06-11e7-8691-c9fce968bbcf</td>\n",
       "      <td>1</td>\n",
       "      <td>0</td>\n",
       "      <td>0</td>\n",
       "    </tr>\n",
       "    <tr>\n",
       "      <th>1</th>\n",
       "      <td>04c2f950-2fac-11e9-819b-432f8134e172</td>\n",
       "      <td>1</td>\n",
       "      <td>0</td>\n",
       "      <td>0</td>\n",
       "    </tr>\n",
       "    <tr>\n",
       "      <th>2</th>\n",
       "      <td>06855dd0-3923-11e7-be67-1174531b58f7</td>\n",
       "      <td>1</td>\n",
       "      <td>0</td>\n",
       "      <td>0</td>\n",
       "    </tr>\n",
       "    <tr>\n",
       "      <th>3</th>\n",
       "      <td>0d18ddd0-6d91-11e8-b4c3-17d192a9e275</td>\n",
       "      <td>1</td>\n",
       "      <td>0</td>\n",
       "      <td>0</td>\n",
       "    </tr>\n",
       "    <tr>\n",
       "      <th>4</th>\n",
       "      <td>1001da80-b7a5-11e9-ace5-69ef697942ba</td>\n",
       "      <td>1</td>\n",
       "      <td>0</td>\n",
       "      <td>0</td>\n",
       "    </tr>\n",
       "  </tbody>\n",
       "</table>\n",
       "</div>"
      ],
      "text/plain": [
       "                                     id  team_id  no_comment  no_user_tests\n",
       "0  0178dee0-aa06-11e7-8691-c9fce968bbcf        1           0              0\n",
       "1  04c2f950-2fac-11e9-819b-432f8134e172        1           0              0\n",
       "2  06855dd0-3923-11e7-be67-1174531b58f7        1           0              0\n",
       "3  0d18ddd0-6d91-11e8-b4c3-17d192a9e275        1           0              0\n",
       "4  1001da80-b7a5-11e9-ace5-69ef697942ba        1           0              0"
      ]
     },
     "execution_count": 8,
     "metadata": {},
     "output_type": "execute_result"
    }
   ],
   "source": [
    "raw_df3.head()"
   ]
  },
  {
   "cell_type": "code",
   "execution_count": 9,
   "metadata": {},
   "outputs": [],
   "source": [
    "raw_df3 = raw_df3.groupby(['team_id']).sum().reset_index()"
   ]
  },
  {
   "cell_type": "code",
   "execution_count": 10,
   "metadata": {
    "scrolled": true
   },
   "outputs": [],
   "source": [
    "raw_df4 = pd.read_csv(\"/Users/allisonkelly/Documents/Notebooks/user_behavior_analysis/data/raw/team_user_roles.csv\")"
   ]
  },
  {
   "cell_type": "code",
   "execution_count": 11,
   "metadata": {},
   "outputs": [
    {
     "data": {
      "text/plain": [
       "18580"
      ]
     },
     "execution_count": 11,
     "metadata": {},
     "output_type": "execute_result"
    }
   ],
   "source": [
    "len(raw_df4)"
   ]
  },
  {
   "cell_type": "code",
   "execution_count": 34,
   "metadata": {
    "scrolled": true
   },
   "outputs": [
    {
     "data": {
      "text/html": [
       "<div>\n",
       "<style scoped>\n",
       "    .dataframe tbody tr th:only-of-type {\n",
       "        vertical-align: middle;\n",
       "    }\n",
       "\n",
       "    .dataframe tbody tr th {\n",
       "        vertical-align: top;\n",
       "    }\n",
       "\n",
       "    .dataframe thead th {\n",
       "        text-align: right;\n",
       "    }\n",
       "</style>\n",
       "<table border=\"1\" class=\"dataframe\">\n",
       "  <thead>\n",
       "    <tr style=\"text-align: right;\">\n",
       "      <th></th>\n",
       "      <th>team_id</th>\n",
       "      <th>account_start_date</th>\n",
       "      <th>trial_end_date</th>\n",
       "      <th>mocks_count</th>\n",
       "      <th>entities_count</th>\n",
       "      <th>intents_count</th>\n",
       "      <th>variables_count</th>\n",
       "      <th>last_login</th>\n",
       "      <th>sub_end</th>\n",
       "      <th>stripe_plan</th>\n",
       "      <th>members</th>\n",
       "      <th>reviewers</th>\n",
       "      <th>testers</th>\n",
       "    </tr>\n",
       "  </thead>\n",
       "  <tbody>\n",
       "    <tr>\n",
       "      <th>0</th>\n",
       "      <td>1</td>\n",
       "      <td>2017-01-10 15:45:21</td>\n",
       "      <td>NaN</td>\n",
       "      <td>73</td>\n",
       "      <td>7</td>\n",
       "      <td>41</td>\n",
       "      <td>27</td>\n",
       "      <td>2020-12-05 23:24:18</td>\n",
       "      <td>NaN</td>\n",
       "      <td>pro-plan</td>\n",
       "      <td>7</td>\n",
       "      <td>0</td>\n",
       "      <td>8</td>\n",
       "    </tr>\n",
       "    <tr>\n",
       "      <th>1</th>\n",
       "      <td>4</td>\n",
       "      <td>2017-01-10 16:09:13</td>\n",
       "      <td>2017-01-28 10:08:26</td>\n",
       "      <td>1</td>\n",
       "      <td>0</td>\n",
       "      <td>0</td>\n",
       "      <td>0</td>\n",
       "      <td>2019-05-14 16:52:00</td>\n",
       "      <td>NaN</td>\n",
       "      <td>NaN</td>\n",
       "      <td>0</td>\n",
       "      <td>0</td>\n",
       "      <td>0</td>\n",
       "    </tr>\n",
       "    <tr>\n",
       "      <th>2</th>\n",
       "      <td>5</td>\n",
       "      <td>2017-01-10 16:15:43</td>\n",
       "      <td>2017-01-28 10:08:26</td>\n",
       "      <td>1</td>\n",
       "      <td>0</td>\n",
       "      <td>0</td>\n",
       "      <td>0</td>\n",
       "      <td>NaN</td>\n",
       "      <td>NaN</td>\n",
       "      <td>NaN</td>\n",
       "      <td>0</td>\n",
       "      <td>0</td>\n",
       "      <td>0</td>\n",
       "    </tr>\n",
       "    <tr>\n",
       "      <th>3</th>\n",
       "      <td>6</td>\n",
       "      <td>2017-01-10 16:45:29</td>\n",
       "      <td>2017-01-28 10:08:26</td>\n",
       "      <td>1</td>\n",
       "      <td>0</td>\n",
       "      <td>0</td>\n",
       "      <td>0</td>\n",
       "      <td>NaN</td>\n",
       "      <td>NaN</td>\n",
       "      <td>NaN</td>\n",
       "      <td>0</td>\n",
       "      <td>0</td>\n",
       "      <td>0</td>\n",
       "    </tr>\n",
       "    <tr>\n",
       "      <th>4</th>\n",
       "      <td>7</td>\n",
       "      <td>2017-01-10 17:07:54</td>\n",
       "      <td>2017-01-28 10:08:26</td>\n",
       "      <td>1</td>\n",
       "      <td>0</td>\n",
       "      <td>0</td>\n",
       "      <td>0</td>\n",
       "      <td>NaN</td>\n",
       "      <td>NaN</td>\n",
       "      <td>NaN</td>\n",
       "      <td>0</td>\n",
       "      <td>0</td>\n",
       "      <td>0</td>\n",
       "    </tr>\n",
       "  </tbody>\n",
       "</table>\n",
       "</div>"
      ],
      "text/plain": [
       "  team_id   account_start_date       trial_end_date  mocks_count  \\\n",
       "0       1  2017-01-10 15:45:21                  NaN           73   \n",
       "1       4  2017-01-10 16:09:13  2017-01-28 10:08:26            1   \n",
       "2       5  2017-01-10 16:15:43  2017-01-28 10:08:26            1   \n",
       "3       6  2017-01-10 16:45:29  2017-01-28 10:08:26            1   \n",
       "4       7  2017-01-10 17:07:54  2017-01-28 10:08:26            1   \n",
       "\n",
       "   entities_count  intents_count  variables_count           last_login  \\\n",
       "0               7             41               27  2020-12-05 23:24:18   \n",
       "1               0              0                0  2019-05-14 16:52:00   \n",
       "2               0              0                0                  NaN   \n",
       "3               0              0                0                  NaN   \n",
       "4               0              0                0                  NaN   \n",
       "\n",
       "  sub_end stripe_plan  members  reviewers  testers  \n",
       "0     NaN    pro-plan        7          0        8  \n",
       "1     NaN         NaN        0          0        0  \n",
       "2     NaN         NaN        0          0        0  \n",
       "3     NaN         NaN        0          0        0  \n",
       "4     NaN         NaN        0          0        0  "
      ]
     },
     "execution_count": 34,
     "metadata": {},
     "output_type": "execute_result"
    }
   ],
   "source": [
    "merge_df = raw_df1.merge(raw_df2,on='team_id').merge(raw_df4,on='team_id')\n",
    "merge_df.head()"
   ]
  },
  {
   "cell_type": "code",
   "execution_count": 35,
   "metadata": {
    "scrolled": true
   },
   "outputs": [
    {
     "name": "stdout",
     "output_type": "stream",
     "text": [
      "<class 'pandas.core.frame.DataFrame'>\n",
      "Int64Index: 16372 entries, 0 to 16371\n",
      "Data columns (total 13 columns):\n",
      " #   Column              Non-Null Count  Dtype \n",
      "---  ------              --------------  ----- \n",
      " 0   team_id             16372 non-null  object\n",
      " 1   account_start_date  16372 non-null  object\n",
      " 2   trial_end_date      15778 non-null  object\n",
      " 3   mocks_count         16372 non-null  int64 \n",
      " 4   entities_count      16372 non-null  int64 \n",
      " 5   intents_count       16372 non-null  int64 \n",
      " 6   variables_count     16372 non-null  int64 \n",
      " 7   last_login          9126 non-null   object\n",
      " 8   sub_end             934 non-null    object\n",
      " 9   stripe_plan         1147 non-null   object\n",
      " 10  members             16372 non-null  int64 \n",
      " 11  reviewers           16372 non-null  int64 \n",
      " 12  testers             16372 non-null  int64 \n",
      "dtypes: int64(7), object(6)\n",
      "memory usage: 1.7+ MB\n"
     ]
    }
   ],
   "source": [
    "merge_df.info()"
   ]
  },
  {
   "cell_type": "code",
   "execution_count": 36,
   "metadata": {
    "scrolled": false
   },
   "outputs": [
    {
     "data": {
      "text/html": [
       "<div>\n",
       "<style scoped>\n",
       "    .dataframe tbody tr th:only-of-type {\n",
       "        vertical-align: middle;\n",
       "    }\n",
       "\n",
       "    .dataframe tbody tr th {\n",
       "        vertical-align: top;\n",
       "    }\n",
       "\n",
       "    .dataframe thead th {\n",
       "        text-align: right;\n",
       "    }\n",
       "</style>\n",
       "<table border=\"1\" class=\"dataframe\">\n",
       "  <thead>\n",
       "    <tr style=\"text-align: right;\">\n",
       "      <th></th>\n",
       "      <th>count</th>\n",
       "      <th>mean</th>\n",
       "      <th>std</th>\n",
       "      <th>min</th>\n",
       "      <th>25%</th>\n",
       "      <th>50%</th>\n",
       "      <th>75%</th>\n",
       "      <th>max</th>\n",
       "    </tr>\n",
       "  </thead>\n",
       "  <tbody>\n",
       "    <tr>\n",
       "      <th>mocks_count</th>\n",
       "      <td>16372.0</td>\n",
       "      <td>3.478256</td>\n",
       "      <td>26.287360</td>\n",
       "      <td>0.0</td>\n",
       "      <td>1.0</td>\n",
       "      <td>1.0</td>\n",
       "      <td>2.0</td>\n",
       "      <td>1381.0</td>\n",
       "    </tr>\n",
       "    <tr>\n",
       "      <th>entities_count</th>\n",
       "      <td>16372.0</td>\n",
       "      <td>2.348400</td>\n",
       "      <td>86.932887</td>\n",
       "      <td>0.0</td>\n",
       "      <td>0.0</td>\n",
       "      <td>0.0</td>\n",
       "      <td>0.0</td>\n",
       "      <td>8454.0</td>\n",
       "    </tr>\n",
       "    <tr>\n",
       "      <th>intents_count</th>\n",
       "      <td>16372.0</td>\n",
       "      <td>15.299841</td>\n",
       "      <td>686.188935</td>\n",
       "      <td>0.0</td>\n",
       "      <td>0.0</td>\n",
       "      <td>0.0</td>\n",
       "      <td>0.0</td>\n",
       "      <td>63619.0</td>\n",
       "    </tr>\n",
       "    <tr>\n",
       "      <th>variables_count</th>\n",
       "      <td>16372.0</td>\n",
       "      <td>8.609822</td>\n",
       "      <td>417.472297</td>\n",
       "      <td>0.0</td>\n",
       "      <td>0.0</td>\n",
       "      <td>0.0</td>\n",
       "      <td>0.0</td>\n",
       "      <td>45259.0</td>\n",
       "    </tr>\n",
       "    <tr>\n",
       "      <th>members</th>\n",
       "      <td>16372.0</td>\n",
       "      <td>0.146592</td>\n",
       "      <td>1.601763</td>\n",
       "      <td>0.0</td>\n",
       "      <td>0.0</td>\n",
       "      <td>0.0</td>\n",
       "      <td>0.0</td>\n",
       "      <td>129.0</td>\n",
       "    </tr>\n",
       "    <tr>\n",
       "      <th>reviewers</th>\n",
       "      <td>16372.0</td>\n",
       "      <td>0.071891</td>\n",
       "      <td>0.971413</td>\n",
       "      <td>0.0</td>\n",
       "      <td>0.0</td>\n",
       "      <td>0.0</td>\n",
       "      <td>0.0</td>\n",
       "      <td>54.0</td>\n",
       "    </tr>\n",
       "    <tr>\n",
       "      <th>testers</th>\n",
       "      <td>16372.0</td>\n",
       "      <td>0.162106</td>\n",
       "      <td>2.140844</td>\n",
       "      <td>0.0</td>\n",
       "      <td>0.0</td>\n",
       "      <td>0.0</td>\n",
       "      <td>0.0</td>\n",
       "      <td>113.0</td>\n",
       "    </tr>\n",
       "  </tbody>\n",
       "</table>\n",
       "</div>"
      ],
      "text/plain": [
       "                   count       mean         std  min  25%  50%  75%      max\n",
       "mocks_count      16372.0   3.478256   26.287360  0.0  1.0  1.0  2.0   1381.0\n",
       "entities_count   16372.0   2.348400   86.932887  0.0  0.0  0.0  0.0   8454.0\n",
       "intents_count    16372.0  15.299841  686.188935  0.0  0.0  0.0  0.0  63619.0\n",
       "variables_count  16372.0   8.609822  417.472297  0.0  0.0  0.0  0.0  45259.0\n",
       "members          16372.0   0.146592    1.601763  0.0  0.0  0.0  0.0    129.0\n",
       "reviewers        16372.0   0.071891    0.971413  0.0  0.0  0.0  0.0     54.0\n",
       "testers          16372.0   0.162106    2.140844  0.0  0.0  0.0  0.0    113.0"
      ]
     },
     "execution_count": 36,
     "metadata": {},
     "output_type": "execute_result"
    }
   ],
   "source": [
    "merge_df.describe().transpose()"
   ]
  },
  {
   "cell_type": "markdown",
   "metadata": {},
   "source": [
    "# Data Cleaning\n",
    "\n",
    "Retention as activity or churn?\n",
    "\n",
    "Break down by plan type\n",
    "- Free\n",
    "- Pro\n",
    "- Enterprise\n",
    "\n",
    "\n",
    "has_invited\n",
    "mocks - continuous\n",
    "Free to paid\n",
    "Paid to churn\n",
    "free to churned\n",
    "separate freemium users"
   ]
  },
  {
   "cell_type": "code",
   "execution_count": 37,
   "metadata": {},
   "outputs": [],
   "source": [
    "enterprise_plans = [\"aarp-yearly\",\"allstate-plan1\",\"bms-yearly\",\"botmock15\",\"centurylink-monthly\",\"coned-plan\",\n",
    "                    \"fleishman-yearly\",\"plan_F7HeCobBL8LyDk\",\"plan_FER0iNKmeqQuob\",\"plan_H8jHSUawWHiNUl\",\n",
    "                    \"plan-novartis\",\"price_1HkCSdAJmWSUW5DJRPUifM1H\",\"prod_FbBc8TFEZPLW47\",'prod_FeUn3vSkQk6Rec',\n",
    "                    'prod_GlpnGQpRGsGeyd','promero-monthly','vodafone-nz']"
   ]
  },
  {
   "cell_type": "code",
   "execution_count": 38,
   "metadata": {},
   "outputs": [],
   "source": [
    "def check_enterprise(dfObj, listOfValues):\n",
    "    ''' Check if given elements exists in Series or not.\n",
    "        It returns a list of boolean values'''\n",
    "    results = []\n",
    "    for value in dfObj.values:\n",
    "        # Check if the element exists in dataframe values\n",
    "        if value in listOfValues:\n",
    "            results.append(1)\n",
    "        else:\n",
    "            results.append(0)\n",
    "    # Returns a list of true/false      \n",
    "    return results"
   ]
  },
  {
   "cell_type": "code",
   "execution_count": 39,
   "metadata": {},
   "outputs": [],
   "source": [
    "merge_df['is_enterprise'] = pd.Series(check_enterprise(merge_df['stripe_plan'], enterprise_plans))"
   ]
  },
  {
   "cell_type": "code",
   "execution_count": 40,
   "metadata": {
    "scrolled": true
   },
   "outputs": [
    {
     "name": "stdout",
     "output_type": "stream",
     "text": [
      "<class 'pandas.core.frame.DataFrame'>\n",
      "Int64Index: 16372 entries, 0 to 16371\n",
      "Data columns (total 14 columns):\n",
      " #   Column              Non-Null Count  Dtype \n",
      "---  ------              --------------  ----- \n",
      " 0   team_id             16372 non-null  object\n",
      " 1   account_start_date  16372 non-null  object\n",
      " 2   trial_end_date      15778 non-null  object\n",
      " 3   mocks_count         16372 non-null  int64 \n",
      " 4   entities_count      16372 non-null  int64 \n",
      " 5   intents_count       16372 non-null  int64 \n",
      " 6   variables_count     16372 non-null  int64 \n",
      " 7   last_login          9126 non-null   object\n",
      " 8   sub_end             934 non-null    object\n",
      " 9   stripe_plan         1147 non-null   object\n",
      " 10  members             16372 non-null  int64 \n",
      " 11  reviewers           16372 non-null  int64 \n",
      " 12  testers             16372 non-null  int64 \n",
      " 13  is_enterprise       16372 non-null  int64 \n",
      "dtypes: int64(8), object(6)\n",
      "memory usage: 1.9+ MB\n"
     ]
    }
   ],
   "source": [
    "merge_df.info()"
   ]
  },
  {
   "cell_type": "markdown",
   "metadata": {},
   "source": [
    "Out of 16,372 users, 15,225 have accounts that are not associated with a subscription. There are 21 accounts on Enterprise plans and 1,126 accounts associated with a Pro plan."
   ]
  },
  {
   "cell_type": "code",
   "execution_count": 41,
   "metadata": {
    "scrolled": true
   },
   "outputs": [
    {
     "name": "stdout",
     "output_type": "stream",
     "text": [
      "Accounts with no paid subscription: 15225\n",
      "Accounts on Enterprise plans: 21\n",
      "Accounts on Pro plans: 1126\n"
     ]
    }
   ],
   "source": [
    "print(f'Accounts with no paid subscription: {sum(merge_df.stripe_plan.isnull())}')\n",
    "print(f'Accounts on Enterprise plans: {sum(merge_df.is_enterprise)}')\n",
    "print(f'Accounts on Pro plans: {16372 - 15225 - 21}')"
   ]
  },
  {
   "cell_type": "code",
   "execution_count": 42,
   "metadata": {},
   "outputs": [],
   "source": [
    "# Swapping null values for \"free\" to indicate no subscription\n",
    "merge_df.stripe_plan.fillna('free', inplace=True)"
   ]
  },
  {
   "cell_type": "code",
   "execution_count": 43,
   "metadata": {
    "scrolled": true
   },
   "outputs": [],
   "source": [
    "date_cols = ['account_start_date', 'trial_end_date', 'last_login', 'sub_end']\n",
    "for col in date_cols:\n",
    "    merge_df[col] = merge_df[col].astype('datetime64')"
   ]
  },
  {
   "cell_type": "code",
   "execution_count": 44,
   "metadata": {
    "scrolled": false
   },
   "outputs": [
    {
     "data": {
      "text/plain": [
       "934"
      ]
     },
     "execution_count": 44,
     "metadata": {},
     "output_type": "execute_result"
    }
   ],
   "source": [
    "len(merge_df) - sum(merge_df.sub_end.isnull())"
   ]
  },
  {
   "cell_type": "code",
   "execution_count": 45,
   "metadata": {},
   "outputs": [
    {
     "data": {
      "text/html": [
       "<div>\n",
       "<style scoped>\n",
       "    .dataframe tbody tr th:only-of-type {\n",
       "        vertical-align: middle;\n",
       "    }\n",
       "\n",
       "    .dataframe tbody tr th {\n",
       "        vertical-align: top;\n",
       "    }\n",
       "\n",
       "    .dataframe thead th {\n",
       "        text-align: right;\n",
       "    }\n",
       "</style>\n",
       "<table border=\"1\" class=\"dataframe\">\n",
       "  <thead>\n",
       "    <tr style=\"text-align: right;\">\n",
       "      <th></th>\n",
       "      <th>team_id</th>\n",
       "      <th>account_start_date</th>\n",
       "      <th>trial_end_date</th>\n",
       "      <th>mocks_count</th>\n",
       "      <th>entities_count</th>\n",
       "      <th>intents_count</th>\n",
       "      <th>variables_count</th>\n",
       "      <th>last_login</th>\n",
       "      <th>sub_end</th>\n",
       "      <th>stripe_plan</th>\n",
       "      <th>members</th>\n",
       "      <th>reviewers</th>\n",
       "      <th>testers</th>\n",
       "      <th>is_enterprise</th>\n",
       "    </tr>\n",
       "  </thead>\n",
       "  <tbody>\n",
       "    <tr>\n",
       "      <th>0</th>\n",
       "      <td>1</td>\n",
       "      <td>2017-01-10 15:45:21</td>\n",
       "      <td>NaT</td>\n",
       "      <td>73</td>\n",
       "      <td>7</td>\n",
       "      <td>41</td>\n",
       "      <td>27</td>\n",
       "      <td>2020-12-05 23:24:18</td>\n",
       "      <td>NaT</td>\n",
       "      <td>pro-plan</td>\n",
       "      <td>7</td>\n",
       "      <td>0</td>\n",
       "      <td>8</td>\n",
       "      <td>0</td>\n",
       "    </tr>\n",
       "    <tr>\n",
       "      <th>1</th>\n",
       "      <td>4</td>\n",
       "      <td>2017-01-10 16:09:13</td>\n",
       "      <td>2017-01-28 10:08:26</td>\n",
       "      <td>1</td>\n",
       "      <td>0</td>\n",
       "      <td>0</td>\n",
       "      <td>0</td>\n",
       "      <td>2019-05-14 16:52:00</td>\n",
       "      <td>NaT</td>\n",
       "      <td>free</td>\n",
       "      <td>0</td>\n",
       "      <td>0</td>\n",
       "      <td>0</td>\n",
       "      <td>0</td>\n",
       "    </tr>\n",
       "    <tr>\n",
       "      <th>2</th>\n",
       "      <td>5</td>\n",
       "      <td>2017-01-10 16:15:43</td>\n",
       "      <td>2017-01-28 10:08:26</td>\n",
       "      <td>1</td>\n",
       "      <td>0</td>\n",
       "      <td>0</td>\n",
       "      <td>0</td>\n",
       "      <td>NaT</td>\n",
       "      <td>NaT</td>\n",
       "      <td>free</td>\n",
       "      <td>0</td>\n",
       "      <td>0</td>\n",
       "      <td>0</td>\n",
       "      <td>0</td>\n",
       "    </tr>\n",
       "    <tr>\n",
       "      <th>3</th>\n",
       "      <td>6</td>\n",
       "      <td>2017-01-10 16:45:29</td>\n",
       "      <td>2017-01-28 10:08:26</td>\n",
       "      <td>1</td>\n",
       "      <td>0</td>\n",
       "      <td>0</td>\n",
       "      <td>0</td>\n",
       "      <td>NaT</td>\n",
       "      <td>NaT</td>\n",
       "      <td>free</td>\n",
       "      <td>0</td>\n",
       "      <td>0</td>\n",
       "      <td>0</td>\n",
       "      <td>0</td>\n",
       "    </tr>\n",
       "    <tr>\n",
       "      <th>4</th>\n",
       "      <td>7</td>\n",
       "      <td>2017-01-10 17:07:54</td>\n",
       "      <td>2017-01-28 10:08:26</td>\n",
       "      <td>1</td>\n",
       "      <td>0</td>\n",
       "      <td>0</td>\n",
       "      <td>0</td>\n",
       "      <td>NaT</td>\n",
       "      <td>NaT</td>\n",
       "      <td>free</td>\n",
       "      <td>0</td>\n",
       "      <td>0</td>\n",
       "      <td>0</td>\n",
       "      <td>0</td>\n",
       "    </tr>\n",
       "  </tbody>\n",
       "</table>\n",
       "</div>"
      ],
      "text/plain": [
       "  team_id  account_start_date      trial_end_date  mocks_count  \\\n",
       "0       1 2017-01-10 15:45:21                 NaT           73   \n",
       "1       4 2017-01-10 16:09:13 2017-01-28 10:08:26            1   \n",
       "2       5 2017-01-10 16:15:43 2017-01-28 10:08:26            1   \n",
       "3       6 2017-01-10 16:45:29 2017-01-28 10:08:26            1   \n",
       "4       7 2017-01-10 17:07:54 2017-01-28 10:08:26            1   \n",
       "\n",
       "   entities_count  intents_count  variables_count          last_login sub_end  \\\n",
       "0               7             41               27 2020-12-05 23:24:18     NaT   \n",
       "1               0              0                0 2019-05-14 16:52:00     NaT   \n",
       "2               0              0                0                 NaT     NaT   \n",
       "3               0              0                0                 NaT     NaT   \n",
       "4               0              0                0                 NaT     NaT   \n",
       "\n",
       "  stripe_plan  members  reviewers  testers  is_enterprise  \n",
       "0    pro-plan        7          0        8              0  \n",
       "1        free        0          0        0              0  \n",
       "2        free        0          0        0              0  \n",
       "3        free        0          0        0              0  \n",
       "4        free        0          0        0              0  "
      ]
     },
     "execution_count": 45,
     "metadata": {},
     "output_type": "execute_result"
    }
   ],
   "source": [
    "merge_df.head()"
   ]
  },
  {
   "cell_type": "code",
   "execution_count": 46,
   "metadata": {},
   "outputs": [],
   "source": [
    "free_df = merge_df.loc[merge_df['stripe_plan'] == 'free']\n",
    "paid_df = merge_df.loc[merge_df['stripe_plan'] != 'free']"
   ]
  },
  {
   "cell_type": "code",
   "execution_count": 47,
   "metadata": {
    "scrolled": false
   },
   "outputs": [
    {
     "data": {
      "text/html": [
       "<div>\n",
       "<style scoped>\n",
       "    .dataframe tbody tr th:only-of-type {\n",
       "        vertical-align: middle;\n",
       "    }\n",
       "\n",
       "    .dataframe tbody tr th {\n",
       "        vertical-align: top;\n",
       "    }\n",
       "\n",
       "    .dataframe thead th {\n",
       "        text-align: right;\n",
       "    }\n",
       "</style>\n",
       "<table border=\"1\" class=\"dataframe\">\n",
       "  <thead>\n",
       "    <tr style=\"text-align: right;\">\n",
       "      <th></th>\n",
       "      <th>team_id</th>\n",
       "      <th>account_start_date</th>\n",
       "      <th>trial_end_date</th>\n",
       "      <th>mocks_count</th>\n",
       "      <th>entities_count</th>\n",
       "      <th>intents_count</th>\n",
       "      <th>variables_count</th>\n",
       "      <th>last_login</th>\n",
       "      <th>sub_end</th>\n",
       "      <th>stripe_plan</th>\n",
       "      <th>members</th>\n",
       "      <th>reviewers</th>\n",
       "      <th>testers</th>\n",
       "      <th>is_enterprise</th>\n",
       "    </tr>\n",
       "  </thead>\n",
       "  <tbody>\n",
       "    <tr>\n",
       "      <th>0</th>\n",
       "      <td>1</td>\n",
       "      <td>2017-01-10 15:45:21</td>\n",
       "      <td>NaT</td>\n",
       "      <td>73</td>\n",
       "      <td>7</td>\n",
       "      <td>41</td>\n",
       "      <td>27</td>\n",
       "      <td>2020-12-05 23:24:18</td>\n",
       "      <td>NaT</td>\n",
       "      <td>pro-plan</td>\n",
       "      <td>7</td>\n",
       "      <td>0</td>\n",
       "      <td>8</td>\n",
       "      <td>0</td>\n",
       "    </tr>\n",
       "    <tr>\n",
       "      <th>51</th>\n",
       "      <td>57</td>\n",
       "      <td>2017-01-11 12:48:38</td>\n",
       "      <td>NaT</td>\n",
       "      <td>1</td>\n",
       "      <td>0</td>\n",
       "      <td>0</td>\n",
       "      <td>0</td>\n",
       "      <td>2020-08-26 00:13:38</td>\n",
       "      <td>2017-02-15 07:07:30</td>\n",
       "      <td>solo-plan</td>\n",
       "      <td>0</td>\n",
       "      <td>0</td>\n",
       "      <td>0</td>\n",
       "      <td>0</td>\n",
       "    </tr>\n",
       "    <tr>\n",
       "      <th>75</th>\n",
       "      <td>82</td>\n",
       "      <td>2017-01-14 22:08:41</td>\n",
       "      <td>NaT</td>\n",
       "      <td>6</td>\n",
       "      <td>0</td>\n",
       "      <td>0</td>\n",
       "      <td>0</td>\n",
       "      <td>NaT</td>\n",
       "      <td>NaT</td>\n",
       "      <td>starter-plan</td>\n",
       "      <td>2</td>\n",
       "      <td>0</td>\n",
       "      <td>0</td>\n",
       "      <td>0</td>\n",
       "    </tr>\n",
       "    <tr>\n",
       "      <th>94</th>\n",
       "      <td>101</td>\n",
       "      <td>2017-01-22 09:14:29</td>\n",
       "      <td>NaT</td>\n",
       "      <td>1</td>\n",
       "      <td>0</td>\n",
       "      <td>0</td>\n",
       "      <td>0</td>\n",
       "      <td>NaT</td>\n",
       "      <td>2017-03-19 06:54:32</td>\n",
       "      <td>starter-plan</td>\n",
       "      <td>4</td>\n",
       "      <td>0</td>\n",
       "      <td>0</td>\n",
       "      <td>0</td>\n",
       "    </tr>\n",
       "    <tr>\n",
       "      <th>138</th>\n",
       "      <td>151</td>\n",
       "      <td>2017-02-11 01:29:34</td>\n",
       "      <td>2017-02-26 01:29:38</td>\n",
       "      <td>1</td>\n",
       "      <td>0</td>\n",
       "      <td>0</td>\n",
       "      <td>0</td>\n",
       "      <td>NaT</td>\n",
       "      <td>2017-02-26 01:29:38</td>\n",
       "      <td>starter-plan</td>\n",
       "      <td>2</td>\n",
       "      <td>0</td>\n",
       "      <td>0</td>\n",
       "      <td>0</td>\n",
       "    </tr>\n",
       "  </tbody>\n",
       "</table>\n",
       "</div>"
      ],
      "text/plain": [
       "    team_id  account_start_date      trial_end_date  mocks_count  \\\n",
       "0         1 2017-01-10 15:45:21                 NaT           73   \n",
       "51       57 2017-01-11 12:48:38                 NaT            1   \n",
       "75       82 2017-01-14 22:08:41                 NaT            6   \n",
       "94      101 2017-01-22 09:14:29                 NaT            1   \n",
       "138     151 2017-02-11 01:29:34 2017-02-26 01:29:38            1   \n",
       "\n",
       "     entities_count  intents_count  variables_count          last_login  \\\n",
       "0                 7             41               27 2020-12-05 23:24:18   \n",
       "51                0              0                0 2020-08-26 00:13:38   \n",
       "75                0              0                0                 NaT   \n",
       "94                0              0                0                 NaT   \n",
       "138               0              0                0                 NaT   \n",
       "\n",
       "                sub_end   stripe_plan  members  reviewers  testers  \\\n",
       "0                   NaT      pro-plan        7          0        8   \n",
       "51  2017-02-15 07:07:30     solo-plan        0          0        0   \n",
       "75                  NaT  starter-plan        2          0        0   \n",
       "94  2017-03-19 06:54:32  starter-plan        4          0        0   \n",
       "138 2017-02-26 01:29:38  starter-plan        2          0        0   \n",
       "\n",
       "     is_enterprise  \n",
       "0                0  \n",
       "51               0  \n",
       "75               0  \n",
       "94               0  \n",
       "138              0  "
      ]
     },
     "execution_count": 47,
     "metadata": {},
     "output_type": "execute_result"
    }
   ],
   "source": [
    "paid_df.head()"
   ]
  },
  {
   "cell_type": "code",
   "execution_count": 48,
   "metadata": {},
   "outputs": [
    {
     "data": {
      "text/plain": [
       "1147"
      ]
     },
     "execution_count": 48,
     "metadata": {},
     "output_type": "execute_result"
    }
   ],
   "source": [
    "len(paid_df)"
   ]
  },
  {
   "cell_type": "code",
   "execution_count": 49,
   "metadata": {},
   "outputs": [],
   "source": [
    "paid_df['account_start_date'] = pd.to_datetime(paid_df.account_start_date)"
   ]
  },
  {
   "cell_type": "code",
   "execution_count": 50,
   "metadata": {
    "scrolled": false
   },
   "outputs": [],
   "source": [
    "paid_df['sub_end'] = pd.to_datetime(paid_df['sub_end'])"
   ]
  },
  {
   "cell_type": "code",
   "execution_count": 51,
   "metadata": {},
   "outputs": [],
   "source": [
    "paid_df['churned'] = np.where(paid_df.sub_end <= pd.datetime.now(), 1, 0)"
   ]
  },
  {
   "cell_type": "code",
   "execution_count": 52,
   "metadata": {
    "scrolled": true
   },
   "outputs": [
    {
     "data": {
      "text/plain": [
       "1    930\n",
       "0    217\n",
       "Name: churned, dtype: int64"
      ]
     },
     "execution_count": 52,
     "metadata": {},
     "output_type": "execute_result"
    }
   ],
   "source": [
    "paid_df['churned'].value_counts()"
   ]
  },
  {
   "cell_type": "code",
   "execution_count": 53,
   "metadata": {},
   "outputs": [],
   "source": [
    "paid_df.to_csv('paid.csv')"
   ]
  },
  {
   "cell_type": "code",
   "execution_count": null,
   "metadata": {},
   "outputs": [],
   "source": []
  }
 ],
 "metadata": {
  "kernelspec": {
   "display_name": "Python 3",
   "language": "python",
   "name": "python3"
  },
  "language_info": {
   "codemirror_mode": {
    "name": "ipython",
    "version": 3
   },
   "file_extension": ".py",
   "mimetype": "text/x-python",
   "name": "python",
   "nbconvert_exporter": "python",
   "pygments_lexer": "ipython3",
   "version": "3.8.5"
  }
 },
 "nbformat": 4,
 "nbformat_minor": 4
}
